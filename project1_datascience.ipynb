{
 "cells": [
  {
   "cell_type": "code",
   "execution_count": 1,
   "id": "26282184",
   "metadata": {},
   "outputs": [],
   "source": [
    "import pandas as pd\n",
    "import os\n",
    "import json\n",
    "import opendatasets as od\n",
    "import sys\n",
    "import webbrowser\n",
    "import sqlite3"
   ]
  },
  {
   "cell_type": "code",
   "execution_count": 2,
   "id": "d7eea27f",
   "metadata": {},
   "outputs": [
    {
     "data": {
      "text/plain": [
       "True"
      ]
     },
     "execution_count": 2,
     "metadata": {},
     "output_type": "execute_result"
    }
   ],
   "source": [
    "# DOCUMENTATION\n",
    "\n",
    "# STEP 1: run this cell, will open a ZIP folder called, \"archive\" with the CSV file crop_production.csv\n",
    "# STEP 2: extract data from the archive folder\n",
    "# STEP 3: upload crop_production.csv file from extracted version of the archive folder into Jupyter Notebook\n",
    "# STEP 4: All done!  Please run the next cell\n",
    "\n",
    "\n",
    "webbrowser.open('https://www.kaggle.com/datasets/thedevastator/the-relationship-between-crop-production-and-cli/download?datasetVersionNumber=2')\n"
   ]
  },
  {
   "cell_type": "code",
   "execution_count": 3,
   "id": "e5826b59",
   "metadata": {},
   "outputs": [],
   "source": [
    "# DOCUMENTATION\n",
    "\n",
    "# this cell checks if the user has downloaded the file from above and if they haven't yet it redirects the user to the cell above\n",
    "\n",
    "exists = os.path.exists('crop_production.csv')\n",
    "\n",
    "if exists == True:\n",
    "    file = pd.read_csv('crop_production.csv')\n",
    "else :\n",
    "    print(\"The file does not exist.  Please go back to the previous cell and follow the directions to download the CSV file.\")"
   ]
  },
  {
   "cell_type": "code",
   "execution_count": 4,
   "id": "408eabf7",
   "metadata": {},
   "outputs": [
    {
     "name": "stdout",
     "output_type": "stream",
     "text": [
      "Which columns of the Crop Production data set would you like to see?\n",
      "Submit a number below:\n",
      "1 = LOCATION, SUBJECT, TIME\n",
      "2 = INDICATOR, MEASURE\n",
      "3 = Keep all columns\n",
      "1\n",
      "Thank you!\n"
     ]
    }
   ],
   "source": [
    "# DOCUMENTATION\n",
    "# in this cell, the user has three options to customize the columns in the file\n",
    "# they are given three tries to imput a value one through three.  after the third incorrect try the program terminates\n",
    "\n",
    "count = 0\n",
    "\n",
    "print(\"Which columns of the Crop Production data set would you like to see?\")\n",
    "print(\"Submit a number below:\")\n",
    "print( '1 = LOCATION, SUBJECT, TIME' )\n",
    "print( '2 = INDICATOR, MEASURE' )\n",
    "print( '3 = Keep all columns')\n",
    "\n",
    "conn = sqlite3.connect('crop_production.db1')\n",
    "cur = conn.cursor()\n",
    "\n",
    "\n",
    "while count <3:\n",
    "    answer = input()\n",
    "    if answer == '1':\n",
    "        file1 = pd.DataFrame(file, columns =[ 'LOCATION' , 'SUBJECT', \"TIME\"])\n",
    "        print(\"Thank you!\")\n",
    "        cur.execute('CREATE TABLE IF NOT EXISTS crops (LOCATION text, SUBJECT text, TIME text )')\n",
    "        conn.commit()\n",
    "        \n",
    "        count = 3\n",
    "        \n",
    "        \n",
    "    elif answer == '2':\n",
    "        file1 = pd.DataFrame(file, columns =[ 'INDICATOR' , 'MEASURE'])\n",
    "        cur.execute('CREATE TABLE IF NOT EXISTS crops (INDICATOR text, MEASURE text )')\n",
    "        conn.commit()\n",
    "        print(\"Thank you!\")\n",
    "        \n",
    "        \n",
    "        count = 3\n",
    "    \n",
    "    elif answer == '3':\n",
    "        file1 = file\n",
    "        print(\"Thank you!\")\n",
    "        cur.execute('CREATE TABLE IF NOT EXISTS crops ( LOCATION text, INDICATOR text, SUBJECT text, MEASURE text, FREQUENCY\t text, MEASURE text, TIME text, Value text )')\n",
    "        conn.commit()\n",
    "    \n",
    "        count = 3\n",
    "    \n",
    "    else :\n",
    "        if count == 2:\n",
    "            sys.exit(\"You have reached the max number of tries.  Please restart.\")\n",
    "        else :\n",
    "            count = count + 1\n",
    "            print('Please try again.  Remmeber to choose number 1, 2, or 3.')\n",
    "            continue\n",
    "\n",
    "    "
   ]
  },
  {
   "cell_type": "code",
   "execution_count": 5,
   "id": "f6e20d8c",
   "metadata": {},
   "outputs": [
    {
     "name": "stdout",
     "output_type": "stream",
     "text": [
      "FILE SUMMARY:\n",
      "Number of records:  20566\n",
      "Number of columns:  3\n"
     ]
    }
   ],
   "source": [
    "# DOCUMENTATION\n",
    "# This cell gives the user a summary of the file\n",
    "\n",
    "print('FILE SUMMARY:')\n",
    "print( 'Number of records: ', len(file1))\n",
    "print( 'Number of columns: ', len(file1.columns))"
   ]
  },
  {
   "cell_type": "code",
   "execution_count": 6,
   "id": "b21ba571",
   "metadata": {},
   "outputs": [
    {
     "name": "stdout",
     "output_type": "stream",
     "text": [
      "Converting file to json...\n",
      "All done! You have a new file crop_production.json in your local folder.\n"
     ]
    }
   ],
   "source": [
    "# DOCUMENTATION\n",
    "# This cell converts to json\n",
    "\n",
    "print('Converting file to json...')\n",
    "jsonfile = file1.to_json()\n",
    "data = json.loads(jsonfile)\n",
    "json = json.dumps(data) \n",
    "f = open(\"crop_production.json\",\"w\")\n",
    "f.write(json)\n",
    "f.close()\n",
    "print('All done! You have a new file crop_production.json in your local folder.')\n",
    "\n",
    "    \n",
    "    "
   ]
  },
  {
   "cell_type": "code",
   "execution_count": 7,
   "id": "47ef4aed",
   "metadata": {},
   "outputs": [
    {
     "name": "stdout",
     "output_type": "stream",
     "text": [
      "Converting file to SQL...\n",
      "All done! You have a new file crop_production_db1 and this is the first entry:\n",
      "('AUS', 'RICE', 1990)\n"
     ]
    }
   ],
   "source": [
    "# DOCUMENTATION\n",
    "# This cell converts to SQL and checks the first column to make sure it was sucessful\n",
    "\n",
    "print('Converting file to SQL...')\n",
    "file1.to_sql('crops', conn, if_exists='replace', index = False)\n",
    "print('All done! You have a new file crop_production_db1 and this is the first entry:')\n",
    "cur.execute(\"SELECT * FROM crops;\")\n",
    "one_result = cur.fetchone()\n",
    "print(one_result)"
   ]
  }
 ],
 "metadata": {
  "kernelspec": {
   "display_name": "Python 3 (ipykernel)",
   "language": "python",
   "name": "python3"
  },
  "language_info": {
   "codemirror_mode": {
    "name": "ipython",
    "version": 3
   },
   "file_extension": ".py",
   "mimetype": "text/x-python",
   "name": "python",
   "nbconvert_exporter": "python",
   "pygments_lexer": "ipython3",
   "version": "3.9.13"
  }
 },
 "nbformat": 4,
 "nbformat_minor": 5
}
